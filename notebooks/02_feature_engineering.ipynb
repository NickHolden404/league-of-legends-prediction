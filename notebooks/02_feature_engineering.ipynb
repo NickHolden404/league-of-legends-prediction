{
 "cells": [
  {
   "cell_type": "markdown",
   "id": "d953701a-51f6-40bc-8e28-1f5c71985b46",
   "metadata": {},
   "source": [
    "# Feature Engineering for League of Legends Match Outcome Prediction\n",
    "\n",
    "In this notebook we:\n",
    "- Identify pick and ban columns.\n",
    "- Build champion pick one-hot encodings.\n",
    "- Add ban features.\n",
    "- Create role composition features using champion metadata.\n",
    "- Assemble final feature set (X) and target (y).\n"
   ]
  },
  {
   "cell_type": "code",
   "execution_count": 1,
   "id": "6353bfc4-9b94-4f9b-a00e-85af333d5526",
   "metadata": {},
   "outputs": [
    {
     "name": "stdout",
     "output_type": "stream",
     "text": [
      "Shape: (51490, 61)\n",
      "Index(['gameId', 'creationTime', 'gameDuration', 'seasonId', 'winner',\n",
      "       'firstBlood', 'firstTower', 'firstInhibitor', 'firstBaron',\n",
      "       'firstDragon', 'firstRiftHerald', 't1_champ1id', 't1_champ1_sum1',\n",
      "       't1_champ1_sum2', 't1_champ2id', 't1_champ2_sum1', 't1_champ2_sum2',\n",
      "       't1_champ3id', 't1_champ3_sum1', 't1_champ3_sum2'],\n",
      "      dtype='object')\n"
     ]
    }
   ],
   "source": [
    "import pandas as pd\n",
    "from sklearn.preprocessing import MultiLabelBinarizer\n",
    "import json\n",
    "\n",
    "# Load dataset\n",
    "df = pd.read_csv(\"../data/games.csv\")\n",
    "\n",
    "print(\"Shape:\", df.shape)\n",
    "print(df.columns[:20])  # preview first 20 column names"
   ]
  },
  {
   "cell_type": "code",
   "execution_count": 2,
   "id": "e0932c16-1937-4956-8989-939513c11954",
   "metadata": {},
   "outputs": [
    {
     "name": "stdout",
     "output_type": "stream",
     "text": [
      "Team1 picks: ['t1_champ1id', 't1_champ1_sum1', 't1_champ1_sum2', 't1_champ2id', 't1_champ2_sum1', 't1_champ2_sum2', 't1_champ3id', 't1_champ3_sum1', 't1_champ3_sum2', 't1_champ4id', 't1_champ4_sum1', 't1_champ4_sum2', 't1_champ5id', 't1_champ5_sum1', 't1_champ5_sum2']\n",
      "Team2 picks: ['t2_champ1id', 't2_champ1_sum1', 't2_champ1_sum2', 't2_champ2id', 't2_champ2_sum1', 't2_champ2_sum2', 't2_champ3id', 't2_champ3_sum1', 't2_champ3_sum2', 't2_champ4id', 't2_champ4_sum1', 't2_champ4_sum2', 't2_champ5id', 't2_champ5_sum1', 't2_champ5_sum2']\n",
      "Team1 bans: ['t1_ban1', 't1_ban2', 't1_ban3', 't1_ban4', 't1_ban5']\n",
      "Team2 bans: ['t2_ban1', 't2_ban2', 't2_ban3', 't2_ban4', 't2_ban5']\n"
     ]
    }
   ],
   "source": [
    "# detect pick and ban columns automatically\n",
    "t1_pick_cols = [c for c in df.columns if c.lower().startswith('t1_champ')]\n",
    "t2_pick_cols = [c for c in df.columns if c.lower().startswith('t2_champ')]\n",
    "t1_ban_cols  = [c for c in df.columns if c.lower().startswith('t1_ban')]\n",
    "t2_ban_cols  = [c for c in df.columns if c.lower().startswith('t2_ban')]\n",
    "\n",
    "print(\"Team1 picks:\", t1_pick_cols)\n",
    "print(\"Team2 picks:\", t2_pick_cols)\n",
    "print(\"Team1 bans:\", t1_ban_cols)\n",
    "print(\"Team2 bans:\", t2_ban_cols)"
   ]
  },
  {
   "cell_type": "code",
   "execution_count": 3,
   "id": "47f0967b-e954-4df4-a265-ac1b41e7cece",
   "metadata": {},
   "outputs": [
    {
     "name": "stdout",
     "output_type": "stream",
     "text": [
      "One-hot features shape: (51490, 339)\n"
     ]
    }
   ],
   "source": [
    "# Collect picks as lists\n",
    "df['t1_picks'] = df[t1_pick_cols].values.tolist()\n",
    "df['t2_picks'] = df[t2_pick_cols].values.tolist()\n",
    "\n",
    "# One-hot encode champion IDs\n",
    "mlb = MultiLabelBinarizer()\n",
    "t1_onehot = mlb.fit_transform(df['t1_picks'])\n",
    "t2_onehot = mlb.transform(df['t2_picks'])\n",
    "\n",
    "t1_onehot_df = pd.DataFrame(t1_onehot, columns=[f\"t1_champ_{c}\" for c in mlb.classes_], index=df.index)\n",
    "t2_onehot_df = pd.DataFrame(t2_onehot, columns=[f\"t2_champ_{c}\" for c in mlb.classes_], index=df.index)\n",
    "\n",
    "df = pd.concat([df, t1_onehot_df, t2_onehot_df], axis=1)\n",
    "print(\"One-hot features shape:\", df.shape)"
   ]
  },
  {
   "cell_type": "code",
   "execution_count": 4,
   "id": "e35625bf-587a-4613-a52c-411e0ad0d0f9",
   "metadata": {},
   "outputs": [
    {
     "name": "stdout",
     "output_type": "stream",
     "text": [
      "With bans added: (51490, 619)\n"
     ]
    }
   ],
   "source": [
    "# Process bans similarly\n",
    "df['t1_bans_list'] = df[t1_ban_cols].values.tolist()\n",
    "df['t2_bans_list'] = df[t2_ban_cols].values.tolist()\n",
    "\n",
    "mlb_ban = MultiLabelBinarizer()\n",
    "t1_ban_onehot = mlb_ban.fit_transform(df['t1_bans_list'])\n",
    "t2_ban_onehot = mlb_ban.transform(df['t2_bans_list'])\n",
    "\n",
    "t1_ban_df = pd.DataFrame(t1_ban_onehot, columns=[f\"t1_ban_{c}\" for c in mlb_ban.classes_], index=df.index)\n",
    "t2_ban_df = pd.DataFrame(t2_ban_onehot, columns=[f\"t2_ban_{c}\" for c in mlb_ban.classes_], index=df.index)\n",
    "\n",
    "df = pd.concat([df, t1_ban_df, t2_ban_df], axis=1)\n",
    "print(\"With bans added:\", df.shape)"
   ]
  },
  {
   "cell_type": "code",
   "execution_count": 5,
   "id": "105460b3-80a6-4f21-96d6-2e6ab00523b2",
   "metadata": {},
   "outputs": [
    {
     "name": "stdout",
     "output_type": "stream",
     "text": [
      "                                            t1_roles  \\\n",
      "0  {'Mage': 10, 'Tank': 4, 'Support': 2, 'Marksma...   \n",
      "1  {'Marksman': 1, 'Assassin': 5, 'Mage': 7, 'Fig...   \n",
      "2  {'Marksman': 1, 'Assassin': 5, 'Mage': 10, 'Fi...   \n",
      "3  {'Tank': 4, 'Mage': 10, 'Support': 2, 'Fighter...   \n",
      "4  {'Fighter': 2, 'Tank': 3, 'Mage': 10, 'Support...   \n",
      "\n",
      "                                            t2_roles  t1_role_Fighter  \\\n",
      "0  {'Marksman': 3, 'Assassin': 3, 'Fighter': 6, '...                4   \n",
      "1  {'Tank': 5, 'Fighter': 7, 'Mage': 7, 'Support'...                5   \n",
      "2  {'Mage': 8, 'Assassin': 4, 'Support': 3, 'Figh...                3   \n",
      "3  {'Mage': 8, 'Assassin': 4, 'Tank': 4, 'Fighter...                3   \n",
      "4  {'Support': 3, 'Mage': 9, 'Tank': 4, 'Fighter'...                2   \n",
      "\n",
      "   t2_role_Fighter  t1_role_Tank  t2_role_Tank  t1_role_Mage  t2_role_Mage  \\\n",
      "0                6             4             3            10             7   \n",
      "1                7             3             5             7             7   \n",
      "2                5             3             2            10             8   \n",
      "3                6             4             4            10             8   \n",
      "4                3             3             4            10             9   \n",
      "\n",
      "   t1_role_Assassin  t2_role_Assassin  t1_role_Marksman  t2_role_Marksman  \\\n",
      "0                 3                 3                 2                 3   \n",
      "1                 5                 4                 1                 0   \n",
      "2                 5                 4                 1                 2   \n",
      "3                 3                 4                 1                 1   \n",
      "4                 4                 4                 2                 1   \n",
      "\n",
      "   t1_role_Support  t2_role_Support  \n",
      "0                2                1  \n",
      "1                2                2  \n",
      "2                3                3  \n",
      "3                2                2  \n",
      "4                3                3  \n"
     ]
    }
   ],
   "source": [
    "# Load champion metadata (champion_info_2.json is usually best)\n",
    "with open(\"../data/champion_info_2.json\", \"r\", encoding=\"utf-8\") as f:\n",
    "    champ_data = json.load(f)[\"data\"]\n",
    "\n",
    "# Map champion ID -> tags (roles like Mage, Fighter, etc.)\n",
    "role_map = {}\n",
    "for _, v in champ_data.items():\n",
    "    cid = int(v[\"id\"])\n",
    "    tags = v.get(\"tags\", [])\n",
    "    role_map[cid] = tags\n",
    "\n",
    "def role_counts(picks):\n",
    "    counts = {}\n",
    "    for cid in picks:\n",
    "        tags = role_map.get(int(cid), [])\n",
    "        for t in tags:\n",
    "            counts[t] = counts.get(t, 0) + 1\n",
    "    return counts\n",
    "\n",
    "df['t1_roles'] = df['t1_picks'].apply(role_counts)\n",
    "df['t2_roles'] = df['t2_picks'].apply(role_counts)\n",
    "\n",
    "roles = ['Fighter','Tank','Mage','Assassin','Marksman','Support']\n",
    "for r in roles:\n",
    "    df[f\"t1_role_{r}\"] = df['t1_roles'].apply(lambda d: d.get(r, 0))\n",
    "    df[f\"t2_role_{r}\"] = df['t2_roles'].apply(lambda d: d.get(r, 0))\n",
    "\n",
    "print(df[[c for c in df.columns if \"role\" in c]].head())"
   ]
  },
  {
   "cell_type": "code",
   "execution_count": 6,
   "id": "752a0871-9da8-43e2-8d0b-6d577c9ce2a5",
   "metadata": {},
   "outputs": [
    {
     "name": "stdout",
     "output_type": "stream",
     "text": [
      "target\n",
      "1    0.506448\n",
      "0    0.493552\n",
      "Name: proportion, dtype: float64\n"
     ]
    }
   ],
   "source": [
    "# Target: 1 if Team1 wins, else 0\n",
    "df['target'] = (df['winner'] == 1).astype(int)\n",
    "\n",
    "print(df['target'].value_counts(normalize=True))"
   ]
  },
  {
   "cell_type": "markdown",
   "id": "02050c28-86ea-409f-8856-6510dd6c4498",
   "metadata": {},
   "source": [
    "## Save engineered dataset\n",
    "We'll keep only the columns needed for modeling and export a clean CSV for the next step."
   ]
  },
  {
   "cell_type": "code",
   "execution_count": 7,
   "id": "a8452c6c-16c3-45ba-b59f-b6abb69a0d1a",
   "metadata": {},
   "outputs": [
    {
     "name": "stdout",
     "output_type": "stream",
     "text": [
      "Final feature matrix shape: (51490, 566)\n"
     ]
    }
   ],
   "source": [
    "# Feature columns: champ one-hot + bans + roles\n",
    "feature_cols = [c for c in df.columns if c.startswith('t1_champ_') or c.startswith('t2_champ_')]\n",
    "feature_cols += [c for c in df.columns if 'ban_' in c]\n",
    "feature_cols += [c for c in df.columns if 'role_' in c]\n",
    "\n",
    "X = df[feature_cols]\n",
    "y = df['target']\n",
    "\n",
    "print(\"Final feature matrix shape:\", X.shape)\n",
    "\n",
    "# Save for modeling\n",
    "X.to_csv(\"../data/features.csv\", index=False)\n",
    "y.to_csv(\"../data/labels.csv\", index=False)"
   ]
  }
 ],
 "metadata": {
  "kernelspec": {
   "display_name": "Python 3 (ipykernel)",
   "language": "python",
   "name": "python3"
  },
  "language_info": {
   "codemirror_mode": {
    "name": "ipython",
    "version": 3
   },
   "file_extension": ".py",
   "mimetype": "text/x-python",
   "name": "python",
   "nbconvert_exporter": "python",
   "pygments_lexer": "ipython3",
   "version": "3.10.11"
  }
 },
 "nbformat": 4,
 "nbformat_minor": 5
}
