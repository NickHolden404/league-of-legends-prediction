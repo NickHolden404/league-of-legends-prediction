{
 "cells": [
  {
   "cell_type": "markdown",
   "id": "018875b0-1d42-4fa4-884d-ff33f52e383d",
   "metadata": {},
   "source": [
    "# Comparing Models: Draft-Only vs Draft + Early Objectives\n",
    "\n",
    "In this notebook we:\n",
    "- Load preprocessed draft features and labels\n",
    "- Build Model A (draft only)\n",
    "- Extend features with first-objectives (Blood, Tower, Dragon, Baron, etc.)\n",
    "- Build Model B (draft + objectives)\n",
    "- Compare results"
   ]
  },
  {
   "cell_type": "code",
   "execution_count": 1,
   "id": "f70c70f0-1fe5-4210-98c1-a5ae5920cd74",
   "metadata": {},
   "outputs": [
    {
     "name": "stdout",
     "output_type": "stream",
     "text": [
      "Draft feature matrix: (51490, 566)\n",
      "Labels: (51490,)\n"
     ]
    }
   ],
   "source": [
    "import pandas as pd\n",
    "from sklearn.model_selection import train_test_split\n",
    "from sklearn.ensemble import RandomForestClassifier\n",
    "from sklearn.metrics import accuracy_score, roc_auc_score, classification_report\n",
    "\n",
    "# Load draft features + labels\n",
    "X_draft = pd.read_csv(\"../data/features.csv\")\n",
    "y = pd.read_csv(\"../data/labels.csv\").squeeze()\n",
    "\n",
    "# Load original dataset for objectives\n",
    "df = pd.read_csv(\"../data/games.csv\")\n",
    "\n",
    "print(\"Draft feature matrix:\", X_draft.shape)\n",
    "print(\"Labels:\", y.shape)"
   ]
  },
  {
   "cell_type": "markdown",
   "id": "0bb69869-421a-47a5-a162-47d628b213d1",
   "metadata": {},
   "source": [
    "## 1. Add Objective Features\n",
    "We add binary indicators for which team got each objective first."
   ]
  },
  {
   "cell_type": "code",
   "execution_count": 2,
   "id": "35c5c2c2-b974-4dc0-a44a-4ba4884044c2",
   "metadata": {},
   "outputs": [
    {
     "name": "stdout",
     "output_type": "stream",
     "text": [
      "Draft+Objectives feature matrix: (51490, 578)\n"
     ]
    }
   ],
   "source": [
    "objectives = ['firstBlood','firstTower','firstInhibitor','firstBaron','firstDragon','firstRiftHerald']\n",
    "\n",
    "X_obj = X_draft.copy()\n",
    "\n",
    "for obj in objectives:\n",
    "    if obj in df.columns:\n",
    "        X_obj[f\"{obj}_team1\"] = (df[obj] == 1).astype(int)\n",
    "        X_obj[f\"{obj}_team2\"] = (df[obj] == 2).astype(int)\n",
    "\n",
    "print(\"Draft+Objectives feature matrix:\", X_obj.shape)"
   ]
  },
  {
   "cell_type": "markdown",
   "id": "539f84f2-4ba6-4485-a5c4-6ce855e91a32",
   "metadata": {},
   "source": [
    "## 2. Train/Test Split\n",
    "We use the same split for both models for fair comparison."
   ]
  },
  {
   "cell_type": "code",
   "execution_count": 3,
   "id": "48ea81ba-ec73-4e35-b2ae-d677518ac13a",
   "metadata": {},
   "outputs": [
    {
     "name": "stdout",
     "output_type": "stream",
     "text": [
      "Draft-only train size: (41192, 566)\n",
      "Draft+Objectives train size: (41192, 578)\n"
     ]
    }
   ],
   "source": [
    "X_train_A, X_test_A, y_train, y_test = train_test_split(\n",
    "    X_draft, y, test_size=0.2, stratify=y, random_state=42\n",
    ")\n",
    "\n",
    "X_train_B, X_test_B, _, _ = train_test_split(\n",
    "    X_obj, y, test_size=0.2, stratify=y, random_state=42\n",
    ")\n",
    "\n",
    "print(\"Draft-only train size:\", X_train_A.shape)\n",
    "print(\"Draft+Objectives train size:\", X_train_B.shape)"
   ]
  },
  {
   "cell_type": "markdown",
   "id": "a44685b8-4230-4af7-bad1-6d902b1930cc",
   "metadata": {},
   "source": [
    "## 3. Train Both Models\n",
    "RandomForest classifiers with the same hyperparameters."
   ]
  },
  {
   "cell_type": "code",
   "execution_count": 4,
   "id": "0b409a90-f84c-4ed0-be1b-8243c6fa84f0",
   "metadata": {},
   "outputs": [
    {
     "name": "stdout",
     "output_type": "stream",
     "text": [
      "Models trained.\n"
     ]
    }
   ],
   "source": [
    "clf_A = RandomForestClassifier(n_estimators=200, max_depth=12, random_state=42, n_jobs=-1)\n",
    "clf_B = RandomForestClassifier(n_estimators=200, max_depth=12, random_state=42, n_jobs=-1)\n",
    "\n",
    "clf_A.fit(X_train_A, y_train)\n",
    "clf_B.fit(X_train_B, y_train)\n",
    "\n",
    "print(\"Models trained.\")"
   ]
  },
  {
   "cell_type": "markdown",
   "id": "9406bcc0-f8f8-45ef-b688-8dc3919259b8",
   "metadata": {},
   "source": [
    "## 4. Evaluation\n",
    "We compare Accuracy and ROC-AUC for both models."
   ]
  },
  {
   "cell_type": "code",
   "execution_count": 5,
   "id": "d0e466ee-a56f-4201-b181-ee79b3fef0f6",
   "metadata": {},
   "outputs": [
    {
     "name": "stdout",
     "output_type": "stream",
     "text": [
      "Model A (Draft only):\n",
      "Accuracy: 0.5478733734705769\n",
      "ROC AUC: 0.5652107140357883\n",
      "\n",
      "Model B (Draft + Objectives):\n",
      "Accuracy: 0.8954165857448049\n",
      "ROC AUC: 0.9447076893651671\n"
     ]
    }
   ],
   "source": [
    "y_pred_A = clf_A.predict(X_test_A)\n",
    "y_proba_A = clf_A.predict_proba(X_test_A)[:,1]\n",
    "\n",
    "y_pred_B = clf_B.predict(X_test_B)\n",
    "y_proba_B = clf_B.predict_proba(X_test_B)[:,1]\n",
    "\n",
    "print(\"Model A (Draft only):\")\n",
    "print(\"Accuracy:\", accuracy_score(y_test, y_pred_A))\n",
    "print(\"ROC AUC:\", roc_auc_score(y_test, y_proba_A))\n",
    "\n",
    "print(\"\\nModel B (Draft + Objectives):\")\n",
    "print(\"Accuracy:\", accuracy_score(y_test, y_pred_B))\n",
    "print(\"ROC AUC:\", roc_auc_score(y_test, y_proba_B))"
   ]
  },
  {
   "cell_type": "markdown",
   "id": "897f262c-b4be-4ddc-95f0-bd53ba47d5a1",
   "metadata": {},
   "source": [
    "## 5. Report\n",
    "Now we can report the performance improvement from adding objectives.\n",
    "\n",
    "This will let us conclude whether objectives significantly help prediction."
   ]
  }
 ],
 "metadata": {
  "kernelspec": {
   "display_name": "Python 3 (ipykernel)",
   "language": "python",
   "name": "python3"
  },
  "language_info": {
   "codemirror_mode": {
    "name": "ipython",
    "version": 3
   },
   "file_extension": ".py",
   "mimetype": "text/x-python",
   "name": "python",
   "nbconvert_exporter": "python",
   "pygments_lexer": "ipython3",
   "version": "3.10.11"
  }
 },
 "nbformat": 4,
 "nbformat_minor": 5
}
